{
 "cells": [
  {
   "cell_type": "markdown",
   "metadata": {},
   "source": [
    "### MNIST Data Clasification Using Keras Library"
   ]
  },
  {
   "cell_type": "markdown",
   "metadata": {},
   "source": [
    "#### 1.Improve the Accuracy of image classification for\n",
    "####  the test dataset of MNIST handwritten digits by adjusting \n",
    "####  various network parameters like epoch, batch size, nodes, layers, learning rate. \n",
    "####  Use Python code demonstrated in the class as the base."
   ]
  },
  {
   "cell_type": "markdown",
   "metadata": {},
   "source": [
    "### Import the Libraries"
   ]
  },
  {
   "cell_type": "code",
   "execution_count": 1,
   "metadata": {},
   "outputs": [
    {
     "name": "stderr",
     "output_type": "stream",
     "text": [
      "Using TensorFlow backend.\n"
     ]
    }
   ],
   "source": [
    "from __future__ import print_function\n",
    "import keras\n",
    "from keras.datasets import mnist\n",
    "from keras.models import Sequential\n",
    "from keras.layers import Dense, Dropout, Flatten\n",
    "from keras.layers import Conv2D, MaxPooling2D\n",
    "from keras import backend as K"
   ]
  },
  {
   "cell_type": "markdown",
   "metadata": {},
   "source": [
    "### set batch size, num_classes, epochs"
   ]
  },
  {
   "cell_type": "code",
   "execution_count": 8,
   "metadata": {},
   "outputs": [],
   "source": [
    "batch_size = 128\n",
    "num_classes = 10\n",
    "epochs = 15"
   ]
  },
  {
   "cell_type": "markdown",
   "metadata": {},
   "source": [
    "### input image dimensions"
   ]
  },
  {
   "cell_type": "code",
   "execution_count": 9,
   "metadata": {},
   "outputs": [],
   "source": [
    "img_rows, img_cols = 28, 28"
   ]
  },
  {
   "cell_type": "markdown",
   "metadata": {},
   "source": [
    "### the data, split between train and test sets"
   ]
  },
  {
   "cell_type": "code",
   "execution_count": 10,
   "metadata": {},
   "outputs": [],
   "source": [
    "(x_train, y_train), (x_test, y_test) = mnist.load_data()"
   ]
  },
  {
   "cell_type": "code",
   "execution_count": null,
   "metadata": {},
   "outputs": [],
   "source": []
  },
  {
   "cell_type": "code",
   "execution_count": 11,
   "metadata": {},
   "outputs": [],
   "source": [
    "if K.image_data_format() == 'channels_first':\n",
    "    x_train = x_train.reshape(x_train.shape[0], 1, img_rows, img_cols)\n",
    "    x_test = x_test.reshape(x_test.shape[0], 1, img_rows, img_cols)\n",
    "    input_shape = (1, img_rows, img_cols)\n",
    "else:\n",
    "    x_train = x_train.reshape(x_train.shape[0], img_rows, img_cols, 1)\n",
    "    x_test = x_test.reshape(x_test.shape[0], img_rows, img_cols, 1)\n",
    "    input_shape = (img_rows, img_cols, 1)"
   ]
  },
  {
   "cell_type": "markdown",
   "metadata": {},
   "source": [
    "### Setting the Sample with datatype"
   ]
  },
  {
   "cell_type": "code",
   "execution_count": 12,
   "metadata": {},
   "outputs": [
    {
     "name": "stdout",
     "output_type": "stream",
     "text": [
      "x_train shape: (60000, 28, 28, 1)\n",
      "60000 train samples\n",
      "10000 test samples\n"
     ]
    }
   ],
   "source": [
    "x_train = x_train.astype('float32')\n",
    "x_test = x_test.astype('float32')\n",
    "x_train /= 255\n",
    "x_test /= 255\n",
    "print('x_train shape:', x_train.shape)\n",
    "print(x_train.shape[0], 'train samples')\n",
    "print(x_test.shape[0], 'test samples')"
   ]
  },
  {
   "cell_type": "markdown",
   "metadata": {},
   "source": [
    "### convert class vectors to binary class matrices"
   ]
  },
  {
   "cell_type": "code",
   "execution_count": 13,
   "metadata": {},
   "outputs": [],
   "source": [
    "y_train = keras.utils.to_categorical(y_train, num_classes)\n",
    "y_test = keras.utils.to_categorical(y_test, num_classes)\n"
   ]
  },
  {
   "cell_type": "markdown",
   "metadata": {},
   "source": [
    "### model building"
   ]
  },
  {
   "cell_type": "code",
   "execution_count": 14,
   "metadata": {},
   "outputs": [],
   "source": [
    "model = Sequential()\n",
    "model.add(Conv2D(32, kernel_size=(3, 3),\n",
    "                 activation='relu',\n",
    "                 input_shape=input_shape))\n",
    "model.add(Conv2D(64, (3, 3), activation='relu'))\n",
    "model.add(MaxPooling2D(pool_size=(2, 2)))\n",
    "model.add(Dropout(0.25))\n",
    "model.add(Flatten())\n",
    "model.add(Dense(128, activation='relu'))\n",
    "model.add(Dropout(0.5))\n",
    "model.add(Dense(num_classes, activation='softmax'))\n",
    "\n"
   ]
  },
  {
   "cell_type": "markdown",
   "metadata": {},
   "source": [
    "### Model Evaluation"
   ]
  },
  {
   "cell_type": "code",
   "execution_count": 15,
   "metadata": {},
   "outputs": [],
   "source": [
    "model.compile(loss=keras.losses.categorical_crossentropy,\n",
    "              optimizer=keras.optimizers.Adadelta(),\n",
    "              metrics=['accuracy'])"
   ]
  },
  {
   "cell_type": "markdown",
   "metadata": {},
   "source": [
    "### Fit the model"
   ]
  },
  {
   "cell_type": "code",
   "execution_count": 16,
   "metadata": {},
   "outputs": [
    {
     "name": "stdout",
     "output_type": "stream",
     "text": [
      "Train on 60000 samples, validate on 10000 samples\n",
      "Epoch 1/15\n",
      "60000/60000 [==============================] - 365s 6ms/step - loss: 0.2589 - acc: 0.9207 - val_loss: 0.0562 - val_acc: 0.9817\n",
      "Epoch 2/15\n",
      "60000/60000 [==============================] - 373s 6ms/step - loss: 0.0893 - acc: 0.9735 - val_loss: 0.0428 - val_acc: 0.9853\n",
      "Epoch 3/15\n",
      "60000/60000 [==============================] - 360s 6ms/step - loss: 0.0654 - acc: 0.9810 - val_loss: 0.0367 - val_acc: 0.9876\n",
      "Epoch 4/15\n",
      "60000/60000 [==============================] - 364s 6ms/step - loss: 0.0541 - acc: 0.9842 - val_loss: 0.0328 - val_acc: 0.9897\n",
      "Epoch 5/15\n",
      "60000/60000 [==============================] - 366s 6ms/step - loss: 0.0463 - acc: 0.9862 - val_loss: 0.0293 - val_acc: 0.9901\n",
      "Epoch 6/15\n",
      "60000/60000 [==============================] - 375s 6ms/step - loss: 0.0414 - acc: 0.9880 - val_loss: 0.0294 - val_acc: 0.9899\n",
      "Epoch 7/15\n",
      "60000/60000 [==============================] - 287s 5ms/step - loss: 0.0371 - acc: 0.9883 - val_loss: 0.0273 - val_acc: 0.9909\n",
      "Epoch 8/15\n",
      "60000/60000 [==============================] - 255s 4ms/step - loss: 0.0339 - acc: 0.9895 - val_loss: 0.0270 - val_acc: 0.9919\n",
      "Epoch 9/15\n",
      "60000/60000 [==============================] - 254s 4ms/step - loss: 0.0327 - acc: 0.9900 - val_loss: 0.0264 - val_acc: 0.9919\n",
      "Epoch 10/15\n",
      "60000/60000 [==============================] - 325s 5ms/step - loss: 0.0295 - acc: 0.9911 - val_loss: 0.0253 - val_acc: 0.9925\n",
      "Epoch 11/15\n",
      "60000/60000 [==============================] - 268s 4ms/step - loss: 0.0267 - acc: 0.9919 - val_loss: 0.0264 - val_acc: 0.9912\n",
      "Epoch 12/15\n",
      "60000/60000 [==============================] - 253s 4ms/step - loss: 0.0269 - acc: 0.9917 - val_loss: 0.0311 - val_acc: 0.9910\n",
      "Epoch 13/15\n",
      "60000/60000 [==============================] - 253s 4ms/step - loss: 0.0243 - acc: 0.9926 - val_loss: 0.0254 - val_acc: 0.9922\n",
      "Epoch 14/15\n",
      "60000/60000 [==============================] - 255s 4ms/step - loss: 0.0234 - acc: 0.9928 - val_loss: 0.0249 - val_acc: 0.9927\n",
      "Epoch 15/15\n",
      "60000/60000 [==============================] - 245s 4ms/step - loss: 0.0242 - acc: 0.9924 - val_loss: 0.0239 - val_acc: 0.9921\n",
      "Test loss: 0.02394598402002275\n",
      "Test accuracy: 0.9921\n"
     ]
    }
   ],
   "source": [
    "model.fit(x_train, y_train,\n",
    "          batch_size=batch_size,\n",
    "          epochs=epochs,\n",
    "          verbose=1,\n",
    "          validation_data=(x_test, y_test))\n",
    "score = model.evaluate(x_test, y_test, verbose=0)\n",
    "print('Test loss:', score[0])\n",
    "print('Test accuracy:', score[1])"
   ]
  }
 ],
 "metadata": {
  "kernelspec": {
   "display_name": "Python 3",
   "language": "python",
   "name": "python3"
  },
  "language_info": {
   "codemirror_mode": {
    "name": "ipython",
    "version": 3
   },
   "file_extension": ".py",
   "mimetype": "text/x-python",
   "name": "python",
   "nbconvert_exporter": "python",
   "pygments_lexer": "ipython3",
   "version": "3.6.6"
  }
 },
 "nbformat": 4,
 "nbformat_minor": 2
}
